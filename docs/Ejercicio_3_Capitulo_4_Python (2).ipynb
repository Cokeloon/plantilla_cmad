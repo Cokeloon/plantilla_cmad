{
  "nbformat": 4,
  "nbformat_minor": 0,
  "metadata": {
    "colab": {
      "provenance": []
    },
    "kernelspec": {
      "name": "python3",
      "display_name": "Python 3"
    },
    "language_info": {
      "name": "python"
    }
  },
  "cells": [
    {
      "cell_type": "markdown",
      "source": [
        "# Ejercicio 13 - Capitulo 4"
      ],
      "metadata": {
        "id": "qRlEe-nVtAJv"
      }
    },
    {
      "cell_type": "code",
      "execution_count": null,
      "metadata": {
        "id": "2p3mSaXds-cI"
      },
      "outputs": [],
      "source": [
        "import numpy as np\n",
        "import pandas as pd\n",
        "from sklearn.model_selection import train_test_split\n",
        "from sklearn.linear_model import LogisticRegression\n",
        "from sklearn.metrics import confusion_matrix, accuracy_score\n",
        "from sklearn.discriminant_analysis import LinearDiscriminantAnalysis, QuadraticDiscriminantAnalysis\n",
        "from sklearn.neighbors import KNeighborsClassifier\n",
        "from sklearn.naive_bayes import GaussianNB\n",
        "import matplotlib.pyplot as plt\n",
        "import seaborn as sns\n"
      ]
    },
    {
      "cell_type": "code",
      "source": [
        "# Ejercicio A\n",
        "Weekly = pd.read_csv('Weekly.csv')\n",
        "\n",
        "#sns.pairplot(Weekly, hue=\"Direction\", diag_kind=\"kde\")\n",
        "#plt.suptitle(\"Correlaciones\")\n",
        "#plt.show()\n"
      ],
      "metadata": {
        "id": "iQv6oSeftI9r"
      },
      "execution_count": null,
      "outputs": []
    },
    {
      "cell_type": "code",
      "source": [
        "#' Descripciones\n",
        "print(Weekly.describe())\n",
        "print(Weekly.corr())"
      ],
      "metadata": {
        "id": "Y1KG0odExnz2"
      },
      "execution_count": null,
      "outputs": []
    },
    {
      "cell_type": "code",
      "source": [
        "#' Ejercicio B\n",
        "X = Weekly[['Lag1', 'Lag2', 'Lag3', 'Lag4', 'Lag5', 'Volume']]\n",
        "y = Weekly['Direction']\n",
        "reg_log = LogisticRegression(solver='liblinear')\n",
        "reg_log.fit(X, y)\n",
        "print(reg_log.coef_)\n",
        "\n",
        "log_probs = reg_log.predict_proba(X)[:, 1]\n",
        "log_pred = ['Down' if prob > 0.5 else 'Up' for prob in log_probs]"
      ],
      "metadata": {
        "id": "YJZMoAgX0Ybm",
        "colab": {
          "base_uri": "https://localhost:8080/"
        },
        "outputId": "701e745e-d67f-4db0-e2b0-eda6fd61d0ad"
      },
      "execution_count": null,
      "outputs": [
        {
          "output_type": "stream",
          "name": "stdout",
          "text": [
            "[[-0.04117292  0.05846974 -0.01599122 -0.02769998 -0.01440289 -0.02212844]]\n"
          ]
        }
      ]
    },
    {
      "cell_type": "code",
      "source": [
        "#' Ejercicio C\n",
        "conf_matrix = confusion_matrix(log_pred, y)\n",
        "accuracy = accuracy_score(log_pred, y)\n",
        "print(conf_matrix)\n",
        "print(accuracy)"
      ],
      "metadata": {
        "colab": {
          "base_uri": "https://localhost:8080/"
        },
        "id": "CzQ4veUg0laF",
        "outputId": "ccb6dde9-0764-4a1b-b293-bcba0a893720"
      },
      "execution_count": null,
      "outputs": [
        {
          "output_type": "stream",
          "name": "stdout",
          "text": [
            "[[429 558]\n",
            " [ 55  47]]\n",
            "0.43709825528007346\n"
          ]
        }
      ]
    },
    {
      "cell_type": "code",
      "source": [
        "#' Ejercicio D\n",
        "train_mask = Weekly['Year'] < 2009\n",
        "X_train = X[train_mask]\n",
        "y_train = y[train_mask]\n",
        "X_test = X[~train_mask]\n",
        "y_test = y[~train_mask]\n",
        "logistic = LogisticRegression(solver='liblinear')\n",
        "logistic.fit(X_train[['Lag2']], y_train)\n",
        "log_pred_2009 = logistic.predict(X_test[['Lag2']])\n",
        "conf_matrix_2009 = confusion_matrix(log_pred_2009, y_test)\n",
        "accuracy_2009 = accuracy_score(log_pred_2009, y_test)\n",
        "print(conf_matrix_2009)\n",
        "print(accuracy_2009)"
      ],
      "metadata": {
        "id": "ruB76DMh0yR9",
        "colab": {
          "base_uri": "https://localhost:8080/"
        },
        "outputId": "5082d91d-b9f1-439b-f066-e81b473a8f86"
      },
      "execution_count": null,
      "outputs": [
        {
          "output_type": "stream",
          "name": "stdout",
          "text": [
            "[[ 9  5]\n",
            " [34 56]]\n",
            "0.625\n"
          ]
        }
      ]
    },
    {
      "cell_type": "code",
      "source": [
        "#' Ejercicio E\n",
        "lda = LinearDiscriminantAnalysis()\n",
        "lda.fit(X_train[['Lag2']], y_train)\n",
        "lda_pred_2009 = lda.predict(X_test[['Lag2']])\n",
        "conf_matrix_lda = confusion_matrix(lda_pred_2009, y_test)\n",
        "accuracy_lda = accuracy_score(lda_pred_2009, y_test)\n",
        "print(conf_matrix_lda)\n",
        "print(accuracy_lda)"
      ],
      "metadata": {
        "id": "WraLdpO502lc",
        "colab": {
          "base_uri": "https://localhost:8080/"
        },
        "outputId": "1cbb5910-fa39-47a4-c77b-4469a2cc9fda"
      },
      "execution_count": null,
      "outputs": [
        {
          "output_type": "stream",
          "name": "stdout",
          "text": [
            "[[ 9  5]\n",
            " [34 56]]\n",
            "0.625\n"
          ]
        }
      ]
    },
    {
      "cell_type": "code",
      "source": [
        "#' Ejercicio F\n",
        "qda = QuadraticDiscriminantAnalysis()\n",
        "qda.fit(X_train[['Lag2']], y_train)\n",
        "qda_pred_2009 = qda.predict(X_test[['Lag2']])\n",
        "conf_matrix_qda = confusion_matrix(qda_pred_2009, y_test)\n",
        "accuracy_qda = accuracy_score(qda_pred_2009, y_test)\n",
        "print(conf_matrix_qda)\n",
        "print(accuracy_qda)"
      ],
      "metadata": {
        "id": "F7CZH0K706TN",
        "colab": {
          "base_uri": "https://localhost:8080/"
        },
        "outputId": "f961fc65-eb37-4a93-d428-04b694180206"
      },
      "execution_count": null,
      "outputs": [
        {
          "output_type": "stream",
          "name": "stdout",
          "text": [
            "[[ 0  0]\n",
            " [43 61]]\n",
            "0.5865384615384616\n"
          ]
        }
      ]
    },
    {
      "cell_type": "code",
      "source": [
        "#' Ejercicio G\n",
        "knn = KNeighborsClassifier(n_neighbors=1)\n",
        "knn.fit(X_train[['Lag2']], y_train)\n",
        "knn_pred_2009 = knn.predict(X_test[['Lag2']])\n",
        "conf_matrix_knn = confusion_matrix(knn_pred_2009, y_test)\n",
        "accuracy_knn = accuracy_score(knn_pred_2009, y_test)\n",
        "print(conf_matrix_knn)\n",
        "print(accuracy_knn)"
      ],
      "metadata": {
        "id": "ty6T91Sd0-NE",
        "colab": {
          "base_uri": "https://localhost:8080/"
        },
        "outputId": "b21f2647-52e2-478f-9d6e-7a6b24d93914"
      },
      "execution_count": null,
      "outputs": [
        {
          "output_type": "stream",
          "name": "stdout",
          "text": [
            "[[22 32]\n",
            " [21 29]]\n",
            "0.49038461538461536\n"
          ]
        }
      ]
    },
    {
      "cell_type": "code",
      "source": [
        "#' Ejercicio H: Naive Bayes\n",
        "nb = GaussianNB()\n",
        "nb.fit(X_train[['Lag2']], y_train)\n",
        "nb_pred_2009 = nb.predict(X_test[['Lag2']])\n",
        "conf_matrix_nb = confusion_matrix(nb_pred_2009, y_test)\n",
        "accuracy_nb = accuracy_score(nb_pred_2009, y_test)\n",
        "print(conf_matrix_nb)\n",
        "print(accuracy_nb)"
      ],
      "metadata": {
        "id": "N0MdvftD1CEr",
        "colab": {
          "base_uri": "https://localhost:8080/"
        },
        "outputId": "974b36af-b5b0-4fd4-c394-c0aee84fef51"
      },
      "execution_count": null,
      "outputs": [
        {
          "output_type": "stream",
          "name": "stdout",
          "text": [
            "[[ 0  0]\n",
            " [43 61]]\n",
            "0.5865384615384616\n"
          ]
        }
      ]
    },
    {
      "cell_type": "code",
      "source": [
        "# Ejercicio I: Variación de LDA\n",
        "lda_variation = LinearDiscriminantAnalysis()\n",
        "lda_variation.fit(X_train[['Lag1', 'Lag2', 'Lag3']], y_train)\n",
        "lda_pred_var = lda_variation.predict(X_test[['Lag1', 'Lag2', 'Lag3']])\n",
        "conf_matrix_lda_var = confusion_matrix(lda_pred_var, y_test)\n",
        "accuracy_lda_var = accuracy_score(lda_pred_var, y_test)\n",
        "print(conf_matrix_lda_var)\n",
        "print(accuracy_lda_var)\n"
      ],
      "metadata": {
        "id": "UaLzfHty1I-T",
        "colab": {
          "base_uri": "https://localhost:8080/"
        },
        "outputId": "febc907c-dd99-43e5-ebb7-64cd4120d65f"
      },
      "execution_count": null,
      "outputs": [
        {
          "output_type": "stream",
          "name": "stdout",
          "text": [
            "[[ 8  9]\n",
            " [35 52]]\n",
            "0.5769230769230769\n"
          ]
        }
      ]
    },
    {
      "cell_type": "code",
      "source": [
        "# Variación de KNN\n",
        "k_values = list(range(1, 11, 2))\n",
        "knn_accuracies = []\n",
        "\n",
        "for k in k_values:\n",
        "    knn = KNeighborsClassifier(n_neighbors=k)\n",
        "    knn.fit(X_train[['Lag2']], y_train)\n",
        "    knn_pred = knn.predict(X_test[['Lag2']])\n",
        "    knn_acc = accuracy_score(knn_pred, y_test)\n",
        "    knn_accuracies.append(knn_acc)\n",
        "\n",
        "plt.plot(k_values, knn_accuracies, linestyle='dashed', marker='o')\n",
        "plt.xlabel('K Neighbors')\n",
        "plt.ylabel('Accuracy')\n",
        "plt.title('Accuracy vs. K Neighbors')\n",
        "plt.xticks(np.arange(1, 11, step=2))\n",
        "plt.ylim(0.5, 0.7)\n",
        "plt.show()"
      ],
      "metadata": {
        "id": "jo_Chfmr1Mtk",
        "colab": {
          "base_uri": "https://localhost:8080/",
          "height": 472
        },
        "outputId": "92c1d94f-1a43-4d76-ae84-c92aa95e97b9"
      },
      "execution_count": null,
      "outputs": [
        {
          "output_type": "display_data",
          "data": {
            "text/plain": [
              "<Figure size 640x480 with 1 Axes>"
            ],
            "image/png": "[encoded data removed]"
          },
          "metadata": {}
        }
      ]
    },
    {
      "cell_type": "code",
      "source": [
        "#' Variación de QDA\n",
        "X_train[['Raiz']] = np.sqrt(abs(X_train[[\"Lag2\"]]))\n",
        "X_test[['Raiz']] = np.sqrt(abs(X_test[[\"Lag2\"]]))\n",
        "qda_variation = QuadraticDiscriminantAnalysis()\n",
        "qda_variation.fit(X_train[['Lag2', 'Raiz']], y_train)\n",
        "qda_pred_var = qda_variation.predict(X_test[['Lag2', \"Raiz\"]])\n",
        "conf_matrix_qda_var = confusion_matrix(qda_pred_var, y_test)\n",
        "accuracy_qda_var = accuracy_score(qda_pred_var, y_test)\n",
        "\n"
      ],
      "metadata": {
        "id": "QGwxyuyz1eE5"
      },
      "execution_count": null,
      "outputs": []
    },
    {
      "cell_type": "code",
      "source": [
        "#' Resultados\n",
        "print(conf_matrix_qda_var)\n",
        "print(accuracy_qda_var)"
      ],
      "metadata": {
        "id": "ACJbw34BBF0u",
        "outputId": "f9e6826c-4410-4172-845d-079bcee69826",
        "colab": {
          "base_uri": "https://localhost:8080/"
        }
      },
      "execution_count": null,
      "outputs": [
        {
          "output_type": "stream",
          "name": "stdout",
          "text": [
            "[[12 13]\n",
            " [31 48]]\n",
            "0.5769230769230769\n"
          ]
        }
      ]
    },
    {
      "cell_type": "code",
      "source": [
        "#' Variation of Naive Bayes\n",
        "nb_variation = GaussianNB()\n",
        "nb_variation.fit(X_train[['Lag1', 'Lag2', 'Lag3']], y_train)\n",
        "nb_pred_var = nb_variation.predict(X_test[['Lag1', 'Lag2', 'Lag3']])\n",
        "conf_matrix_nb_var = confusion_matrix(nb_pred_var, y_test)\n",
        "accuracy_nb_var = accuracy_score(nb_pred_var, y_test)\n",
        "print(conf_matrix_nb_var)\n",
        "print(accuracy_nb_var)"
      ],
      "metadata": {
        "id": "hGL0HrJ-5DOG",
        "colab": {
          "base_uri": "https://localhost:8080/"
        },
        "outputId": "69232fd5-c8cd-4887-c418-2897f6fd0e70"
      },
      "execution_count": null,
      "outputs": [
        {
          "output_type": "stream",
          "name": "stdout",
          "text": [
            "[[ 5 10]\n",
            " [38 51]]\n",
            "0.5384615384615384\n"
          ]
        }
      ]
    }
  ]
}